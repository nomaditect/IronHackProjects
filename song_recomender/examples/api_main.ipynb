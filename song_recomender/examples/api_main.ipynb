{
 "cells": [
  {
   "cell_type": "markdown",
   "metadata": {},
   "source": [
    "##  Imports"
   ]
  },
  {
   "cell_type": "code",
   "execution_count": 1,
   "metadata": {},
   "outputs": [],
   "source": [
    "import pandas as pd\n",
    "import requests\n",
    "import json\n",
    "import matplotlib\n",
    "%matplotlib inline"
   ]
  },
  {
   "cell_type": "markdown",
   "metadata": {},
   "source": [
    "# Bitcoin market value for last 30 days, vs. USD, deliver a DF and a Plot"
   ]
  },
  {
   "cell_type": "code",
   "execution_count": 8,
   "metadata": {},
   "outputs": [],
   "source": [
    "base = 'https://api.coingecko.com/api/v3/'"
   ]
  },
  {
   "cell_type": "code",
   "execution_count": 9,
   "metadata": {},
   "outputs": [],
   "source": [
    "url = base + 'coins/bitcoin/market_chart?vs_currency=usd&days=30'"
   ]
  },
  {
   "cell_type": "code",
   "execution_count": 10,
   "metadata": {},
   "outputs": [],
   "source": [
    "result = requests.get(url)\n",
    "j_bc = result.json()"
   ]
  },
  {
   "cell_type": "code",
   "execution_count": 11,
   "metadata": {},
   "outputs": [
    {
     "data": {
      "text/html": [
       "<div>\n",
       "<style scoped>\n",
       "    .dataframe tbody tr th:only-of-type {\n",
       "        vertical-align: middle;\n",
       "    }\n",
       "\n",
       "    .dataframe tbody tr th {\n",
       "        vertical-align: top;\n",
       "    }\n",
       "\n",
       "    .dataframe thead th {\n",
       "        text-align: right;\n",
       "    }\n",
       "</style>\n",
       "<table border=\"1\" class=\"dataframe\">\n",
       "  <thead>\n",
       "    <tr style=\"text-align: right;\">\n",
       "      <th></th>\n",
       "      <th>time</th>\n",
       "      <th>price</th>\n",
       "    </tr>\n",
       "  </thead>\n",
       "  <tbody>\n",
       "    <tr>\n",
       "      <th>0</th>\n",
       "      <td>1635710689232</td>\n",
       "      <td>60797.915285</td>\n",
       "    </tr>\n",
       "    <tr>\n",
       "      <th>1</th>\n",
       "      <td>1635714049109</td>\n",
       "      <td>61059.778572</td>\n",
       "    </tr>\n",
       "    <tr>\n",
       "      <th>2</th>\n",
       "      <td>1635717755725</td>\n",
       "      <td>61564.920919</td>\n",
       "    </tr>\n",
       "    <tr>\n",
       "      <th>3</th>\n",
       "      <td>1635721258788</td>\n",
       "      <td>61472.844726</td>\n",
       "    </tr>\n",
       "    <tr>\n",
       "      <th>4</th>\n",
       "      <td>1635725007402</td>\n",
       "      <td>61367.725644</td>\n",
       "    </tr>\n",
       "    <tr>\n",
       "      <th>5</th>\n",
       "      <td>1635728421286</td>\n",
       "      <td>61569.098571</td>\n",
       "    </tr>\n",
       "    <tr>\n",
       "      <th>6</th>\n",
       "      <td>1635732570710</td>\n",
       "      <td>61331.467774</td>\n",
       "    </tr>\n",
       "    <tr>\n",
       "      <th>7</th>\n",
       "      <td>1635735701957</td>\n",
       "      <td>60466.792465</td>\n",
       "    </tr>\n",
       "    <tr>\n",
       "      <th>8</th>\n",
       "      <td>1635740145965</td>\n",
       "      <td>59979.030236</td>\n",
       "    </tr>\n",
       "    <tr>\n",
       "      <th>9</th>\n",
       "      <td>1635742881666</td>\n",
       "      <td>60742.423166</td>\n",
       "    </tr>\n",
       "  </tbody>\n",
       "</table>\n",
       "</div>"
      ],
      "text/plain": [
       "            time         price\n",
       "0  1635710689232  60797.915285\n",
       "1  1635714049109  61059.778572\n",
       "2  1635717755725  61564.920919\n",
       "3  1635721258788  61472.844726\n",
       "4  1635725007402  61367.725644\n",
       "5  1635728421286  61569.098571\n",
       "6  1635732570710  61331.467774\n",
       "7  1635735701957  60466.792465\n",
       "8  1635740145965  59979.030236\n",
       "9  1635742881666  60742.423166"
      ]
     },
     "execution_count": 11,
     "metadata": {},
     "output_type": "execute_result"
    }
   ],
   "source": [
    "df_bc = pd.DataFrame(j_bc['prices'], columns=['time', 'price'])\n",
    "df_bc.head(10)"
   ]
  },
  {
   "cell_type": "code",
   "execution_count": 12,
   "metadata": {},
   "outputs": [],
   "source": [
    "param_dict = { 'id':'bitcoin', 'vs_currency':'usd', 'days':30}\n"
   ]
  },
  {
   "cell_type": "code",
   "execution_count": 13,
   "metadata": {},
   "outputs": [],
   "source": [
    "result = requests.get(url, params=param_dict)\n"
   ]
  },
  {
   "cell_type": "code",
   "execution_count": 14,
   "metadata": {},
   "outputs": [
    {
     "data": {
      "text/html": [
       "<div>\n",
       "<style scoped>\n",
       "    .dataframe tbody tr th:only-of-type {\n",
       "        vertical-align: middle;\n",
       "    }\n",
       "\n",
       "    .dataframe tbody tr th {\n",
       "        vertical-align: top;\n",
       "    }\n",
       "\n",
       "    .dataframe thead th {\n",
       "        text-align: right;\n",
       "    }\n",
       "</style>\n",
       "<table border=\"1\" class=\"dataframe\">\n",
       "  <thead>\n",
       "    <tr style=\"text-align: right;\">\n",
       "      <th></th>\n",
       "      <th>time</th>\n",
       "      <th>price</th>\n",
       "    </tr>\n",
       "  </thead>\n",
       "  <tbody>\n",
       "    <tr>\n",
       "      <th>0</th>\n",
       "      <td>1635710689232</td>\n",
       "      <td>60797.915285</td>\n",
       "    </tr>\n",
       "    <tr>\n",
       "      <th>1</th>\n",
       "      <td>1635714049109</td>\n",
       "      <td>61059.778572</td>\n",
       "    </tr>\n",
       "    <tr>\n",
       "      <th>2</th>\n",
       "      <td>1635717755725</td>\n",
       "      <td>61564.920919</td>\n",
       "    </tr>\n",
       "    <tr>\n",
       "      <th>3</th>\n",
       "      <td>1635721258788</td>\n",
       "      <td>61472.844726</td>\n",
       "    </tr>\n",
       "    <tr>\n",
       "      <th>4</th>\n",
       "      <td>1635725007402</td>\n",
       "      <td>61367.725644</td>\n",
       "    </tr>\n",
       "    <tr>\n",
       "      <th>5</th>\n",
       "      <td>1635728421286</td>\n",
       "      <td>61569.098571</td>\n",
       "    </tr>\n",
       "    <tr>\n",
       "      <th>6</th>\n",
       "      <td>1635732570710</td>\n",
       "      <td>61331.467774</td>\n",
       "    </tr>\n",
       "    <tr>\n",
       "      <th>7</th>\n",
       "      <td>1635735701957</td>\n",
       "      <td>60466.792465</td>\n",
       "    </tr>\n",
       "    <tr>\n",
       "      <th>8</th>\n",
       "      <td>1635740145965</td>\n",
       "      <td>59979.030236</td>\n",
       "    </tr>\n",
       "    <tr>\n",
       "      <th>9</th>\n",
       "      <td>1635742881666</td>\n",
       "      <td>60742.423166</td>\n",
       "    </tr>\n",
       "  </tbody>\n",
       "</table>\n",
       "</div>"
      ],
      "text/plain": [
       "            time         price\n",
       "0  1635710689232  60797.915285\n",
       "1  1635714049109  61059.778572\n",
       "2  1635717755725  61564.920919\n",
       "3  1635721258788  61472.844726\n",
       "4  1635725007402  61367.725644\n",
       "5  1635728421286  61569.098571\n",
       "6  1635732570710  61331.467774\n",
       "7  1635735701957  60466.792465\n",
       "8  1635740145965  59979.030236\n",
       "9  1635742881666  60742.423166"
      ]
     },
     "execution_count": 14,
     "metadata": {},
     "output_type": "execute_result"
    }
   ],
   "source": [
    "j_dc = result.json()\n",
    "df_dc = pd.DataFrame(j_dc['prices'], columns=['time', 'price'])\n",
    "df_dc.head(10)"
   ]
  },
  {
   "cell_type": "code",
   "execution_count": 15,
   "metadata": {},
   "outputs": [],
   "source": [
    "df_bc = pd.DataFrame(j_bc['prices'], columns=['time', 'price'])\n",
    "df_bc['time'] = pd.to_datetime(df_bc['time'], unit='ms')"
   ]
  },
  {
   "cell_type": "code",
   "execution_count": 16,
   "metadata": {},
   "outputs": [
    {
     "data": {
      "text/html": [
       "<div>\n",
       "<style scoped>\n",
       "    .dataframe tbody tr th:only-of-type {\n",
       "        vertical-align: middle;\n",
       "    }\n",
       "\n",
       "    .dataframe tbody tr th {\n",
       "        vertical-align: top;\n",
       "    }\n",
       "\n",
       "    .dataframe thead th {\n",
       "        text-align: right;\n",
       "    }\n",
       "</style>\n",
       "<table border=\"1\" class=\"dataframe\">\n",
       "  <thead>\n",
       "    <tr style=\"text-align: right;\">\n",
       "      <th></th>\n",
       "      <th>price</th>\n",
       "    </tr>\n",
       "    <tr>\n",
       "      <th>time</th>\n",
       "      <th></th>\n",
       "    </tr>\n",
       "  </thead>\n",
       "  <tbody>\n",
       "    <tr>\n",
       "      <th>2021-10-31 20:04:49.232</th>\n",
       "      <td>60797.915285</td>\n",
       "    </tr>\n",
       "    <tr>\n",
       "      <th>2021-10-31 21:00:49.109</th>\n",
       "      <td>61059.778572</td>\n",
       "    </tr>\n",
       "    <tr>\n",
       "      <th>2021-10-31 22:02:35.725</th>\n",
       "      <td>61564.920919</td>\n",
       "    </tr>\n",
       "    <tr>\n",
       "      <th>2021-10-31 23:00:58.788</th>\n",
       "      <td>61472.844726</td>\n",
       "    </tr>\n",
       "    <tr>\n",
       "      <th>2021-11-01 00:03:27.402</th>\n",
       "      <td>61367.725644</td>\n",
       "    </tr>\n",
       "    <tr>\n",
       "      <th>2021-11-01 01:00:21.286</th>\n",
       "      <td>61569.098571</td>\n",
       "    </tr>\n",
       "    <tr>\n",
       "      <th>2021-11-01 02:09:30.710</th>\n",
       "      <td>61331.467774</td>\n",
       "    </tr>\n",
       "    <tr>\n",
       "      <th>2021-11-01 03:01:41.957</th>\n",
       "      <td>60466.792465</td>\n",
       "    </tr>\n",
       "    <tr>\n",
       "      <th>2021-11-01 04:15:45.965</th>\n",
       "      <td>59979.030236</td>\n",
       "    </tr>\n",
       "    <tr>\n",
       "      <th>2021-11-01 05:01:21.666</th>\n",
       "      <td>60742.423166</td>\n",
       "    </tr>\n",
       "  </tbody>\n",
       "</table>\n",
       "</div>"
      ],
      "text/plain": [
       "                                price\n",
       "time                                 \n",
       "2021-10-31 20:04:49.232  60797.915285\n",
       "2021-10-31 21:00:49.109  61059.778572\n",
       "2021-10-31 22:02:35.725  61564.920919\n",
       "2021-10-31 23:00:58.788  61472.844726\n",
       "2021-11-01 00:03:27.402  61367.725644\n",
       "2021-11-01 01:00:21.286  61569.098571\n",
       "2021-11-01 02:09:30.710  61331.467774\n",
       "2021-11-01 03:01:41.957  60466.792465\n",
       "2021-11-01 04:15:45.965  59979.030236\n",
       "2021-11-01 05:01:21.666  60742.423166"
      ]
     },
     "execution_count": 16,
     "metadata": {},
     "output_type": "execute_result"
    }
   ],
   "source": [
    "df_bc.set_index('time', inplace=True)\n",
    "df_bc.head(10)"
   ]
  },
  {
   "cell_type": "code",
   "execution_count": 19,
   "metadata": {},
   "outputs": [
    {
     "data": {
      "image/png": "[encoded data removed]",
      "text/plain": [
       "<Figure size 432x288 with 1 Axes>"
      ]
     },
     "metadata": {
      "needs_background": "light"
     },
     "output_type": "display_data"
    }
   ],
   "source": [
    "df_bc.plot();"
   ]
  },
  {
   "cell_type": "markdown",
   "metadata": {},
   "source": [
    "# Litecoin market value for last 30 days, vs. USD, deliver a DF and a Plot"
   ]
  },
  {
   "cell_type": "code",
   "execution_count": 32,
   "metadata": {},
   "outputs": [],
   "source": [
    "url = base + 'coins/litecoin/market_chart?vs_currency=usd&days=30'"
   ]
  },
  {
   "cell_type": "code",
   "execution_count": 33,
   "metadata": {},
   "outputs": [],
   "source": [
    "result = requests.get(url)\n",
    "j_lc = result.json()"
   ]
  },
  {
   "cell_type": "code",
   "execution_count": 34,
   "metadata": {},
   "outputs": [
    {
     "data": {
      "text/html": [
       "<div>\n",
       "<style scoped>\n",
       "    .dataframe tbody tr th:only-of-type {\n",
       "        vertical-align: middle;\n",
       "    }\n",
       "\n",
       "    .dataframe tbody tr th {\n",
       "        vertical-align: top;\n",
       "    }\n",
       "\n",
       "    .dataframe thead th {\n",
       "        text-align: right;\n",
       "    }\n",
       "</style>\n",
       "<table border=\"1\" class=\"dataframe\">\n",
       "  <thead>\n",
       "    <tr style=\"text-align: right;\">\n",
       "      <th></th>\n",
       "      <th>time</th>\n",
       "      <th>price</th>\n",
       "    </tr>\n",
       "  </thead>\n",
       "  <tbody>\n",
       "    <tr>\n",
       "      <th>0</th>\n",
       "      <td>1635710804406</td>\n",
       "      <td>191.246924</td>\n",
       "    </tr>\n",
       "    <tr>\n",
       "      <th>1</th>\n",
       "      <td>1635714327688</td>\n",
       "      <td>191.587574</td>\n",
       "    </tr>\n",
       "    <tr>\n",
       "      <th>2</th>\n",
       "      <td>1635718090958</td>\n",
       "      <td>192.725592</td>\n",
       "    </tr>\n",
       "    <tr>\n",
       "      <th>3</th>\n",
       "      <td>1635721509294</td>\n",
       "      <td>192.315828</td>\n",
       "    </tr>\n",
       "    <tr>\n",
       "      <th>4</th>\n",
       "      <td>1635725060188</td>\n",
       "      <td>191.987114</td>\n",
       "    </tr>\n",
       "    <tr>\n",
       "      <th>5</th>\n",
       "      <td>1635728606933</td>\n",
       "      <td>193.490488</td>\n",
       "    </tr>\n",
       "    <tr>\n",
       "      <th>6</th>\n",
       "      <td>1635732217173</td>\n",
       "      <td>192.363403</td>\n",
       "    </tr>\n",
       "    <tr>\n",
       "      <th>7</th>\n",
       "      <td>1635735692378</td>\n",
       "      <td>188.956573</td>\n",
       "    </tr>\n",
       "    <tr>\n",
       "      <th>8</th>\n",
       "      <td>1635739316147</td>\n",
       "      <td>189.782802</td>\n",
       "    </tr>\n",
       "    <tr>\n",
       "      <th>9</th>\n",
       "      <td>1635742876334</td>\n",
       "      <td>192.292315</td>\n",
       "    </tr>\n",
       "  </tbody>\n",
       "</table>\n",
       "</div>"
      ],
      "text/plain": [
       "            time       price\n",
       "0  1635710804406  191.246924\n",
       "1  1635714327688  191.587574\n",
       "2  1635718090958  192.725592\n",
       "3  1635721509294  192.315828\n",
       "4  1635725060188  191.987114\n",
       "5  1635728606933  193.490488\n",
       "6  1635732217173  192.363403\n",
       "7  1635735692378  188.956573\n",
       "8  1635739316147  189.782802\n",
       "9  1635742876334  192.292315"
      ]
     },
     "execution_count": 34,
     "metadata": {},
     "output_type": "execute_result"
    }
   ],
   "source": [
    "df_lc = pd.DataFrame(j_lc['prices'], columns=['time', 'price'])\n",
    "df_lc.head(10)"
   ]
  },
  {
   "cell_type": "code",
   "execution_count": 37,
   "metadata": {},
   "outputs": [],
   "source": [
    "df_lc = pd.DataFrame(j_lc['prices'], columns=['time', 'price'])\n",
    "df_lc['time'] = pd.to_datetime(df_lc['time'], unit='ms')"
   ]
  },
  {
   "cell_type": "code",
   "execution_count": 38,
   "metadata": {},
   "outputs": [
    {
     "data": {
      "text/html": [
       "<div>\n",
       "<style scoped>\n",
       "    .dataframe tbody tr th:only-of-type {\n",
       "        vertical-align: middle;\n",
       "    }\n",
       "\n",
       "    .dataframe tbody tr th {\n",
       "        vertical-align: top;\n",
       "    }\n",
       "\n",
       "    .dataframe thead th {\n",
       "        text-align: right;\n",
       "    }\n",
       "</style>\n",
       "<table border=\"1\" class=\"dataframe\">\n",
       "  <thead>\n",
       "    <tr style=\"text-align: right;\">\n",
       "      <th></th>\n",
       "      <th>price</th>\n",
       "    </tr>\n",
       "    <tr>\n",
       "      <th>time</th>\n",
       "      <th></th>\n",
       "    </tr>\n",
       "  </thead>\n",
       "  <tbody>\n",
       "    <tr>\n",
       "      <th>2021-10-31 20:06:44.406</th>\n",
       "      <td>191.246924</td>\n",
       "    </tr>\n",
       "    <tr>\n",
       "      <th>2021-10-31 21:05:27.688</th>\n",
       "      <td>191.587574</td>\n",
       "    </tr>\n",
       "    <tr>\n",
       "      <th>2021-10-31 22:08:10.958</th>\n",
       "      <td>192.725592</td>\n",
       "    </tr>\n",
       "    <tr>\n",
       "      <th>2021-10-31 23:05:09.294</th>\n",
       "      <td>192.315828</td>\n",
       "    </tr>\n",
       "    <tr>\n",
       "      <th>2021-11-01 00:04:20.188</th>\n",
       "      <td>191.987114</td>\n",
       "    </tr>\n",
       "    <tr>\n",
       "      <th>2021-11-01 01:03:26.933</th>\n",
       "      <td>193.490488</td>\n",
       "    </tr>\n",
       "    <tr>\n",
       "      <th>2021-11-01 02:03:37.173</th>\n",
       "      <td>192.363403</td>\n",
       "    </tr>\n",
       "    <tr>\n",
       "      <th>2021-11-01 03:01:32.378</th>\n",
       "      <td>188.956573</td>\n",
       "    </tr>\n",
       "    <tr>\n",
       "      <th>2021-11-01 04:01:56.147</th>\n",
       "      <td>189.782802</td>\n",
       "    </tr>\n",
       "    <tr>\n",
       "      <th>2021-11-01 05:01:16.334</th>\n",
       "      <td>192.292315</td>\n",
       "    </tr>\n",
       "  </tbody>\n",
       "</table>\n",
       "</div>"
      ],
      "text/plain": [
       "                              price\n",
       "time                               \n",
       "2021-10-31 20:06:44.406  191.246924\n",
       "2021-10-31 21:05:27.688  191.587574\n",
       "2021-10-31 22:08:10.958  192.725592\n",
       "2021-10-31 23:05:09.294  192.315828\n",
       "2021-11-01 00:04:20.188  191.987114\n",
       "2021-11-01 01:03:26.933  193.490488\n",
       "2021-11-01 02:03:37.173  192.363403\n",
       "2021-11-01 03:01:32.378  188.956573\n",
       "2021-11-01 04:01:56.147  189.782802\n",
       "2021-11-01 05:01:16.334  192.292315"
      ]
     },
     "execution_count": 38,
     "metadata": {},
     "output_type": "execute_result"
    }
   ],
   "source": [
    "df_lc.set_index('time', inplace=True)\n",
    "df_lc.head(10)"
   ]
  },
  {
   "cell_type": "code",
   "execution_count": 39,
   "metadata": {},
   "outputs": [
    {
     "data": {
      "image/png": "[encoded data removed]",
      "text/plain": [
       "<Figure size 432x288 with 1 Axes>"
      ]
     },
     "metadata": {
      "needs_background": "light"
     },
     "output_type": "display_data"
    }
   ],
   "source": [
    "df_lc.plot();"
   ]
  },
  {
   "cell_type": "markdown",
   "metadata": {},
   "source": [
    "## Plot Litecoin and Dogecoin prices in USD in a lineplot for each for the last 30 days"
   ]
  },
  {
   "cell_type": "code",
   "execution_count": null,
   "metadata": {},
   "outputs": [],
   "source": []
  },
  {
   "cell_type": "markdown",
   "metadata": {},
   "source": [
    "# Top Ten Coins Report"
   ]
  },
  {
   "cell_type": "markdown",
   "metadata": {},
   "source": [
    "## List the first 10 coingecko currencies in a DataFrame"
   ]
  },
  {
   "cell_type": "code",
   "execution_count": null,
   "metadata": {},
   "outputs": [],
   "source": []
  },
  {
   "cell_type": "markdown",
   "metadata": {},
   "source": [
    "## Make a csv called 'top_ten_report.csv' and check that it worked"
   ]
  },
  {
   "cell_type": "code",
   "execution_count": null,
   "metadata": {},
   "outputs": [],
   "source": []
  }
 ],
 "metadata": {
  "hide_input": false,
  "kernelspec": {
   "display_name": "Python 3 (ipykernel)",
   "language": "python",
   "name": "python3"
  },
  "language_info": {
   "codemirror_mode": {
    "name": "ipython",
    "version": 3
   },
   "file_extension": ".py",
   "mimetype": "text/x-python",
   "name": "python",
   "nbconvert_exporter": "python",
   "pygments_lexer": "ipython3",
   "version": "3.9.7"
  },
  "toc": {
   "base_numbering": 1,
   "nav_menu": {},
   "number_sections": true,
   "sideBar": true,
   "skip_h1_title": false,
   "title_cell": "Table of Contents",
   "title_sidebar": "Contents",
   "toc_cell": false,
   "toc_position": {},
   "toc_section_display": true,
   "toc_window_display": false
  },
  "varInspector": {
   "cols": {
    "lenName": 16,
    "lenType": 16,
    "lenVar": 40
   },
   "kernels_config": {
    "python": {
     "delete_cmd_postfix": "",
     "delete_cmd_prefix": "del ",
     "library": "var_list.py",
     "varRefreshCmd": "print(var_dic_list())"
    },
    "r": {
     "delete_cmd_postfix": ") ",
     "delete_cmd_prefix": "rm(",
     "library": "var_list.r",
     "varRefreshCmd": "cat(var_dic_list()) "
    }
   },
   "types_to_exclude": [
    "module",
    "function",
    "builtin_function_or_method",
    "instance",
    "_Feature"
   ],
   "window_display": false
  }
 },
 "nbformat": 4,
 "nbformat_minor": 4
}
