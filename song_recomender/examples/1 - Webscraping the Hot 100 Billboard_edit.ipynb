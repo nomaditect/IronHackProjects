{
 "cells": [
  {
   "cell_type": "markdown",
   "metadata": {},
   "source": [
    "### Import libraries"
   ]
  },
  {
   "cell_type": "code",
   "execution_count": 38,
   "metadata": {},
   "outputs": [],
   "source": [
    "from bs4 import BeautifulSoup\n",
    "import requests\n",
    "import pandas as pd"
   ]
  },
  {
   "cell_type": "markdown",
   "metadata": {},
   "source": [
    "### Finding url and downloading and parsing html"
   ]
  },
  {
   "cell_type": "code",
   "execution_count": 39,
   "metadata": {},
   "outputs": [],
   "source": [
    "url = \"https://www.billboard.com/charts/hot-100\""
   ]
  },
  {
   "cell_type": "code",
   "execution_count": 40,
   "metadata": {},
   "outputs": [],
   "source": [
    "response = requests.get(url)"
   ]
  },
  {
   "cell_type": "code",
   "execution_count": 41,
   "metadata": {},
   "outputs": [],
   "source": [
    "soup = BeautifulSoup(response.content, \"html.parser\")"
   ]
  },
  {
   "cell_type": "markdown",
   "metadata": {},
   "source": [
    "### Creating a list for each of the variables"
   ]
  },
  {
   "cell_type": "raw",
   "metadata": {},
   "source": [
    "# List for the variable song_title\n",
    "song_title = []\n",
    "for song in soup.select(\"span.chart-element__information__song.text--truncate.color--primary\"):\n",
    "    song_title.append(song.get_text())"
   ]
  },
  {
   "cell_type": "code",
   "execution_count": 48,
   "metadata": {},
   "outputs": [],
   "source": [
    "# List for the variable song_title\n",
    "song_title = []\n",
    "for song in soup.select('li #title-of-a-story'):\n",
    "    song_title.append(song.get_text())"
   ]
  },
  {
   "cell_type": "raw",
   "metadata": {},
   "source": [
    "#List for the variable artist\n",
    "artist = []\n",
    "for i in soup.select(\"span.chart-element__information__artist.text--truncate.color--secondary\"):\n",
    "    artist.append(i.get_text())"
   ]
  },
  {
   "cell_type": "code",
   "execution_count": 49,
   "metadata": {},
   "outputs": [],
   "source": [
    "#List for the variable artist\n",
    "artist = []\n",
    "for i in soup.select(\"li.o-chart-results-list__item.\\\\/\\\\/.lrv-u-flex-grow-1.lrv-u-flex.lrv-u-flex-direction-column.lrv-u-justify-content-center.lrv-u-border-b-1.u-border-b-0\\\\@mobile-max.lrv-u-border-color-grey-light.lrv-u-padding-l-1\\\\@mobile-max > span\"):\n",
    "    artist.append(i.get_text())"
   ]
  },
  {
   "cell_type": "raw",
   "metadata": {},
   "source": [
    "#List for last week ranking\n",
    "last_week = []\n",
    "for numb in soup.select(\"span.chart-element__meta.text--center.color--secondary.text--last\"):\n",
    "    last_week.append(numb.get_text())"
   ]
  },
  {
   "cell_type": "raw",
   "metadata": {},
   "source": [
    "# List for peak \n",
    "peak_list = []\n",
    "for peak in soup.select(\"span.chart-element__meta.text--center.color--secondary.text--peak\"):\n",
    "    peak_list.append(peak.get_text())"
   ]
  },
  {
   "cell_type": "raw",
   "metadata": {},
   "source": [
    "# List for weeks on chart\n",
    "weeks_on_chart = []\n",
    "for week in soup.select(\"span.chart-element__meta.text--center.color--secondary.text--week\"):\n",
    "    weeks_on_chart.append(week.get_text())"
   ]
  },
  {
   "cell_type": "markdown",
   "metadata": {},
   "source": [
    "### Creating the dataframe"
   ]
  },
  {
   "cell_type": "code",
   "execution_count": 53,
   "metadata": {},
   "outputs": [],
   "source": [
    "songs = pd.DataFrame({\n",
    "    \"name\":song_title, \n",
    "    \"artist\":artist\n",
    "    })"
   ]
  },
  {
   "cell_type": "code",
   "execution_count": 54,
   "metadata": {},
   "outputs": [
    {
     "data": {
      "text/html": [
       "<div>\n",
       "<style scoped>\n",
       "    .dataframe tbody tr th:only-of-type {\n",
       "        vertical-align: middle;\n",
       "    }\n",
       "\n",
       "    .dataframe tbody tr th {\n",
       "        vertical-align: top;\n",
       "    }\n",
       "\n",
       "    .dataframe thead th {\n",
       "        text-align: right;\n",
       "    }\n",
       "</style>\n",
       "<table border=\"1\" class=\"dataframe\">\n",
       "  <thead>\n",
       "    <tr style=\"text-align: right;\">\n",
       "      <th></th>\n",
       "      <th>name</th>\n",
       "      <th>artist</th>\n",
       "    </tr>\n",
       "  </thead>\n",
       "  <tbody>\n",
       "    <tr>\n",
       "      <th>0</th>\n",
       "      <td>\\nAll Too Well (Taylor's Version)\\n</td>\n",
       "      <td>\\nTaylor Swift\\n</td>\n",
       "    </tr>\n",
       "    <tr>\n",
       "      <th>1</th>\n",
       "      <td>\\nEasy On Me\\n</td>\n",
       "      <td>\\nAdele\\n</td>\n",
       "    </tr>\n",
       "    <tr>\n",
       "      <th>2</th>\n",
       "      <td>\\nStay\\n</td>\n",
       "      <td>\\nThe Kid LAROI &amp; Justin Bieber\\n</td>\n",
       "    </tr>\n",
       "    <tr>\n",
       "      <th>3</th>\n",
       "      <td>\\nIndustry Baby\\n</td>\n",
       "      <td>\\nLil Nas X &amp; Jack Harlow\\n</td>\n",
       "    </tr>\n",
       "    <tr>\n",
       "      <th>4</th>\n",
       "      <td>\\nSmokin Out The Window\\n</td>\n",
       "      <td>\\nSilk Sonic (Bruno Mars &amp; Anderson .Paak)\\n</td>\n",
       "    </tr>\n",
       "    <tr>\n",
       "      <th>...</th>\n",
       "      <td>...</td>\n",
       "      <td>...</td>\n",
       "    </tr>\n",
       "    <tr>\n",
       "      <th>95</th>\n",
       "      <td>\\nMoth To A Flame\\n</td>\n",
       "      <td>\\nSwedish House Mafia &amp; The Weeknd\\n</td>\n",
       "    </tr>\n",
       "    <tr>\n",
       "      <th>96</th>\n",
       "      <td>\\n'Til You Can't\\n</td>\n",
       "      <td>\\nCody Johnson\\n</td>\n",
       "    </tr>\n",
       "    <tr>\n",
       "      <th>97</th>\n",
       "      <td>\\nWoman\\n</td>\n",
       "      <td>\\nDoja Cat\\n</td>\n",
       "    </tr>\n",
       "    <tr>\n",
       "      <th>98</th>\n",
       "      <td>\\nTake My Breath\\n</td>\n",
       "      <td>\\nThe Weeknd\\n</td>\n",
       "    </tr>\n",
       "    <tr>\n",
       "      <th>99</th>\n",
       "      <td>\\nFor Tonight\\n</td>\n",
       "      <td>\\nGiveon\\n</td>\n",
       "    </tr>\n",
       "  </tbody>\n",
       "</table>\n",
       "<p>100 rows × 2 columns</p>\n",
       "</div>"
      ],
      "text/plain": [
       "                                   name  \\\n",
       "0   \\nAll Too Well (Taylor's Version)\\n   \n",
       "1                        \\nEasy On Me\\n   \n",
       "2                              \\nStay\\n   \n",
       "3                     \\nIndustry Baby\\n   \n",
       "4             \\nSmokin Out The Window\\n   \n",
       "..                                  ...   \n",
       "95                  \\nMoth To A Flame\\n   \n",
       "96                   \\n'Til You Can't\\n   \n",
       "97                            \\nWoman\\n   \n",
       "98                   \\nTake My Breath\\n   \n",
       "99                      \\nFor Tonight\\n   \n",
       "\n",
       "                                          artist  \n",
       "0                               \\nTaylor Swift\\n  \n",
       "1                                      \\nAdele\\n  \n",
       "2              \\nThe Kid LAROI & Justin Bieber\\n  \n",
       "3                    \\nLil Nas X & Jack Harlow\\n  \n",
       "4   \\nSilk Sonic (Bruno Mars & Anderson .Paak)\\n  \n",
       "..                                           ...  \n",
       "95          \\nSwedish House Mafia & The Weeknd\\n  \n",
       "96                              \\nCody Johnson\\n  \n",
       "97                                  \\nDoja Cat\\n  \n",
       "98                                \\nThe Weeknd\\n  \n",
       "99                                    \\nGiveon\\n  \n",
       "\n",
       "[100 rows x 2 columns]"
      ]
     },
     "execution_count": 54,
     "metadata": {},
     "output_type": "execute_result"
    }
   ],
   "source": [
    "songs"
   ]
  },
  {
   "cell_type": "code",
   "execution_count": 52,
   "metadata": {},
   "outputs": [],
   "source": [
    "songs.to_csv(\"/Users/AFROARC/Documents/GitHub/IronHackProjects/song_recomender/examples/top_hot_100.csv\", index=False)"
   ]
  },
  {
   "cell_type": "code",
   "execution_count": null,
   "metadata": {},
   "outputs": [],
   "source": []
  }
 ],
 "metadata": {
  "hide_input": false,
  "kernelspec": {
   "display_name": "Python 3 (ipykernel)",
   "language": "python",
   "name": "python3"
  },
  "language_info": {
   "codemirror_mode": {
    "name": "ipython",
    "version": 3
   },
   "file_extension": ".py",
   "mimetype": "text/x-python",
   "name": "python",
   "nbconvert_exporter": "python",
   "pygments_lexer": "ipython3",
   "version": "3.9.7"
  },
  "toc": {
   "base_numbering": 1,
   "nav_menu": {},
   "number_sections": true,
   "sideBar": true,
   "skip_h1_title": false,
   "title_cell": "Table of Contents",
   "title_sidebar": "Contents",
   "toc_cell": false,
   "toc_position": {},
   "toc_section_display": true,
   "toc_window_display": false
  },
  "varInspector": {
   "cols": {
    "lenName": 16,
    "lenType": 16,
    "lenVar": 40
   },
   "kernels_config": {
    "python": {
     "delete_cmd_postfix": "",
     "delete_cmd_prefix": "del ",
     "library": "var_list.py",
     "varRefreshCmd": "print(var_dic_list())"
    },
    "r": {
     "delete_cmd_postfix": ") ",
     "delete_cmd_prefix": "rm(",
     "library": "var_list.r",
     "varRefreshCmd": "cat(var_dic_list()) "
    }
   },
   "types_to_exclude": [
    "module",
    "function",
    "builtin_function_or_method",
    "instance",
    "_Feature"
   ],
   "window_display": false
  }
 },
 "nbformat": 4,
 "nbformat_minor": 4
}
